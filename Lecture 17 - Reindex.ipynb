{
 "cells": [
  {
   "cell_type": "code",
   "execution_count": 1,
   "metadata": {
    "collapsed": true
   },
   "outputs": [],
   "source": [
    "import numpy as np\n",
    "import pandas as pd\n",
    "from pandas import Series,DataFrame\n",
    "from numpy.random import randn"
   ]
  },
  {
   "cell_type": "code",
   "execution_count": 2,
   "metadata": {
    "collapsed": false
   },
   "outputs": [
    {
     "data": {
      "text/plain": [
       "A    1\n",
       "B    2\n",
       "C    3\n",
       "D    4\n",
       "dtype: int64"
      ]
     },
     "execution_count": 2,
     "metadata": {},
     "output_type": "execute_result"
    }
   ],
   "source": [
    "ser1 = Series([1,2,3,4],index=['A','B','C','D'])\n",
    "ser1"
   ]
  },
  {
   "cell_type": "code",
   "execution_count": 3,
   "metadata": {
    "collapsed": false
   },
   "outputs": [
    {
     "data": {
      "text/plain": [
       "A     1\n",
       "B     2\n",
       "C     3\n",
       "D     4\n",
       "E   NaN\n",
       "F   NaN\n",
       "dtype: float64"
      ]
     },
     "execution_count": 3,
     "metadata": {},
     "output_type": "execute_result"
    }
   ],
   "source": [
    "ser2 = ser1.reindex(['A','B','C','D','E','F'])\n",
    "ser2"
   ]
  },
  {
   "cell_type": "code",
   "execution_count": 5,
   "metadata": {
    "collapsed": false
   },
   "outputs": [
    {
     "data": {
      "text/plain": [
       "A     1\n",
       "B     2\n",
       "C     3\n",
       "D     4\n",
       "E   NaN\n",
       "F   NaN\n",
       "G     0\n",
       "dtype: float64"
      ]
     },
     "execution_count": 5,
     "metadata": {},
     "output_type": "execute_result"
    }
   ],
   "source": [
    "ser2.reindex(['A','B','C','D','E','F','G'],fill_value=0)"
   ]
  },
  {
   "cell_type": "code",
   "execution_count": 6,
   "metadata": {
    "collapsed": false
   },
   "outputs": [
    {
     "data": {
      "text/plain": [
       "0        USA\n",
       "5     Mexico\n",
       "10    Canada\n",
       "dtype: object"
      ]
     },
     "execution_count": 6,
     "metadata": {},
     "output_type": "execute_result"
    }
   ],
   "source": [
    "ser3 = Series(['USA','Mexico','Canada'], index=[0,5,10])\n",
    "ser3"
   ]
  },
  {
   "cell_type": "code",
   "execution_count": 9,
   "metadata": {
    "collapsed": true
   },
   "outputs": [],
   "source": [
    "ranger = list(range(15)) #python 2.x is just range(15)"
   ]
  },
  {
   "cell_type": "code",
   "execution_count": 10,
   "metadata": {
    "collapsed": false
   },
   "outputs": [
    {
     "data": {
      "text/plain": [
       "[0, 1, 2, 3, 4, 5, 6, 7, 8, 9, 10, 11, 12, 13, 14]"
      ]
     },
     "execution_count": 10,
     "metadata": {},
     "output_type": "execute_result"
    }
   ],
   "source": [
    "ranger"
   ]
  },
  {
   "cell_type": "code",
   "execution_count": 13,
   "metadata": {
    "collapsed": false
   },
   "outputs": [
    {
     "data": {
      "text/plain": [
       "0        USA\n",
       "1        USA\n",
       "2        USA\n",
       "3        USA\n",
       "4        USA\n",
       "5     Mexico\n",
       "6     Mexico\n",
       "7     Mexico\n",
       "8     Mexico\n",
       "9     Mexico\n",
       "10    Canada\n",
       "11    Canada\n",
       "12    Canada\n",
       "13    Canada\n",
       "14    Canada\n",
       "dtype: object"
      ]
     },
     "execution_count": 13,
     "metadata": {},
     "output_type": "execute_result"
    }
   ],
   "source": [
    "ser3.reindex(ranger,method='ffill')"
   ]
  },
  {
   "cell_type": "code",
   "execution_count": 14,
   "metadata": {
    "collapsed": false
   },
   "outputs": [
    {
     "data": {
      "text/html": [
       "<div>\n",
       "<table border=\"1\" class=\"dataframe\">\n",
       "  <thead>\n",
       "    <tr style=\"text-align: right;\">\n",
       "      <th></th>\n",
       "      <th>col1</th>\n",
       "      <th>col2</th>\n",
       "      <th>col3</th>\n",
       "      <th>col4</th>\n",
       "      <th>col5</th>\n",
       "    </tr>\n",
       "  </thead>\n",
       "  <tbody>\n",
       "    <tr>\n",
       "      <th>A</th>\n",
       "      <td>-0.344118</td>\n",
       "      <td>1.320871</td>\n",
       "      <td>-0.122603</td>\n",
       "      <td>-0.378900</td>\n",
       "      <td>2.823473</td>\n",
       "    </tr>\n",
       "    <tr>\n",
       "      <th>B</th>\n",
       "      <td>0.229416</td>\n",
       "      <td>0.702748</td>\n",
       "      <td>1.111527</td>\n",
       "      <td>0.044463</td>\n",
       "      <td>-0.430412</td>\n",
       "    </tr>\n",
       "    <tr>\n",
       "      <th>D</th>\n",
       "      <td>-0.248895</td>\n",
       "      <td>-0.580090</td>\n",
       "      <td>-2.552170</td>\n",
       "      <td>1.635726</td>\n",
       "      <td>1.770990</td>\n",
       "    </tr>\n",
       "    <tr>\n",
       "      <th>E</th>\n",
       "      <td>-0.079695</td>\n",
       "      <td>1.056657</td>\n",
       "      <td>2.354879</td>\n",
       "      <td>-1.112512</td>\n",
       "      <td>-0.073932</td>\n",
       "    </tr>\n",
       "    <tr>\n",
       "      <th>F</th>\n",
       "      <td>-1.203963</td>\n",
       "      <td>-0.974241</td>\n",
       "      <td>-0.247290</td>\n",
       "      <td>-0.260939</td>\n",
       "      <td>1.005962</td>\n",
       "    </tr>\n",
       "  </tbody>\n",
       "</table>\n",
       "</div>"
      ],
      "text/plain": [
       "       col1      col2      col3      col4      col5\n",
       "A -0.344118  1.320871 -0.122603 -0.378900  2.823473\n",
       "B  0.229416  0.702748  1.111527  0.044463 -0.430412\n",
       "D -0.248895 -0.580090 -2.552170  1.635726  1.770990\n",
       "E -0.079695  1.056657  2.354879 -1.112512 -0.073932\n",
       "F -1.203963 -0.974241 -0.247290 -0.260939  1.005962"
      ]
     },
     "execution_count": 14,
     "metadata": {},
     "output_type": "execute_result"
    }
   ],
   "source": [
    "dframe = DataFrame(randn(25).reshape((5,5)),index=['A','B','D',\"E\",\"F\"],columns=['col1','col2','col3','col4','col5'])\n",
    "dframe"
   ]
  },
  {
   "cell_type": "code",
   "execution_count": 15,
   "metadata": {
    "collapsed": false
   },
   "outputs": [
    {
     "data": {
      "text/html": [
       "<div>\n",
       "<table border=\"1\" class=\"dataframe\">\n",
       "  <thead>\n",
       "    <tr style=\"text-align: right;\">\n",
       "      <th></th>\n",
       "      <th>col1</th>\n",
       "      <th>col2</th>\n",
       "      <th>col3</th>\n",
       "      <th>col4</th>\n",
       "      <th>col5</th>\n",
       "    </tr>\n",
       "  </thead>\n",
       "  <tbody>\n",
       "    <tr>\n",
       "      <th>A</th>\n",
       "      <td>-0.344118</td>\n",
       "      <td>1.320871</td>\n",
       "      <td>-0.122603</td>\n",
       "      <td>-0.378900</td>\n",
       "      <td>2.823473</td>\n",
       "    </tr>\n",
       "    <tr>\n",
       "      <th>B</th>\n",
       "      <td>0.229416</td>\n",
       "      <td>0.702748</td>\n",
       "      <td>1.111527</td>\n",
       "      <td>0.044463</td>\n",
       "      <td>-0.430412</td>\n",
       "    </tr>\n",
       "    <tr>\n",
       "      <th>C</th>\n",
       "      <td>NaN</td>\n",
       "      <td>NaN</td>\n",
       "      <td>NaN</td>\n",
       "      <td>NaN</td>\n",
       "      <td>NaN</td>\n",
       "    </tr>\n",
       "    <tr>\n",
       "      <th>D</th>\n",
       "      <td>-0.248895</td>\n",
       "      <td>-0.580090</td>\n",
       "      <td>-2.552170</td>\n",
       "      <td>1.635726</td>\n",
       "      <td>1.770990</td>\n",
       "    </tr>\n",
       "    <tr>\n",
       "      <th>E</th>\n",
       "      <td>-0.079695</td>\n",
       "      <td>1.056657</td>\n",
       "      <td>2.354879</td>\n",
       "      <td>-1.112512</td>\n",
       "      <td>-0.073932</td>\n",
       "    </tr>\n",
       "    <tr>\n",
       "      <th>F</th>\n",
       "      <td>-1.203963</td>\n",
       "      <td>-0.974241</td>\n",
       "      <td>-0.247290</td>\n",
       "      <td>-0.260939</td>\n",
       "      <td>1.005962</td>\n",
       "    </tr>\n",
       "  </tbody>\n",
       "</table>\n",
       "</div>"
      ],
      "text/plain": [
       "       col1      col2      col3      col4      col5\n",
       "A -0.344118  1.320871 -0.122603 -0.378900  2.823473\n",
       "B  0.229416  0.702748  1.111527  0.044463 -0.430412\n",
       "C       NaN       NaN       NaN       NaN       NaN\n",
       "D -0.248895 -0.580090 -2.552170  1.635726  1.770990\n",
       "E -0.079695  1.056657  2.354879 -1.112512 -0.073932\n",
       "F -1.203963 -0.974241 -0.247290 -0.260939  1.005962"
      ]
     },
     "execution_count": 15,
     "metadata": {},
     "output_type": "execute_result"
    }
   ],
   "source": [
    "dframe2 = dframe.reindex(['A','B','C','D','E','F'])\n",
    "dframe2"
   ]
  },
  {
   "cell_type": "code",
   "execution_count": 16,
   "metadata": {
    "collapsed": true
   },
   "outputs": [],
   "source": [
    "new_columns = ['col1','col2','col3','col4','col5','col6']"
   ]
  },
  {
   "cell_type": "code",
   "execution_count": 17,
   "metadata": {
    "collapsed": false
   },
   "outputs": [
    {
     "data": {
      "text/html": [
       "<div>\n",
       "<table border=\"1\" class=\"dataframe\">\n",
       "  <thead>\n",
       "    <tr style=\"text-align: right;\">\n",
       "      <th></th>\n",
       "      <th>col1</th>\n",
       "      <th>col2</th>\n",
       "      <th>col3</th>\n",
       "      <th>col4</th>\n",
       "      <th>col5</th>\n",
       "      <th>col6</th>\n",
       "    </tr>\n",
       "  </thead>\n",
       "  <tbody>\n",
       "    <tr>\n",
       "      <th>A</th>\n",
       "      <td>-0.344118</td>\n",
       "      <td>1.320871</td>\n",
       "      <td>-0.122603</td>\n",
       "      <td>-0.378900</td>\n",
       "      <td>2.823473</td>\n",
       "      <td>NaN</td>\n",
       "    </tr>\n",
       "    <tr>\n",
       "      <th>B</th>\n",
       "      <td>0.229416</td>\n",
       "      <td>0.702748</td>\n",
       "      <td>1.111527</td>\n",
       "      <td>0.044463</td>\n",
       "      <td>-0.430412</td>\n",
       "      <td>NaN</td>\n",
       "    </tr>\n",
       "    <tr>\n",
       "      <th>C</th>\n",
       "      <td>NaN</td>\n",
       "      <td>NaN</td>\n",
       "      <td>NaN</td>\n",
       "      <td>NaN</td>\n",
       "      <td>NaN</td>\n",
       "      <td>NaN</td>\n",
       "    </tr>\n",
       "    <tr>\n",
       "      <th>D</th>\n",
       "      <td>-0.248895</td>\n",
       "      <td>-0.580090</td>\n",
       "      <td>-2.552170</td>\n",
       "      <td>1.635726</td>\n",
       "      <td>1.770990</td>\n",
       "      <td>NaN</td>\n",
       "    </tr>\n",
       "    <tr>\n",
       "      <th>E</th>\n",
       "      <td>-0.079695</td>\n",
       "      <td>1.056657</td>\n",
       "      <td>2.354879</td>\n",
       "      <td>-1.112512</td>\n",
       "      <td>-0.073932</td>\n",
       "      <td>NaN</td>\n",
       "    </tr>\n",
       "    <tr>\n",
       "      <th>F</th>\n",
       "      <td>-1.203963</td>\n",
       "      <td>-0.974241</td>\n",
       "      <td>-0.247290</td>\n",
       "      <td>-0.260939</td>\n",
       "      <td>1.005962</td>\n",
       "      <td>NaN</td>\n",
       "    </tr>\n",
       "  </tbody>\n",
       "</table>\n",
       "</div>"
      ],
      "text/plain": [
       "       col1      col2      col3      col4      col5  col6\n",
       "A -0.344118  1.320871 -0.122603 -0.378900  2.823473   NaN\n",
       "B  0.229416  0.702748  1.111527  0.044463 -0.430412   NaN\n",
       "C       NaN       NaN       NaN       NaN       NaN   NaN\n",
       "D -0.248895 -0.580090 -2.552170  1.635726  1.770990   NaN\n",
       "E -0.079695  1.056657  2.354879 -1.112512 -0.073932   NaN\n",
       "F -1.203963 -0.974241 -0.247290 -0.260939  1.005962   NaN"
      ]
     },
     "execution_count": 17,
     "metadata": {},
     "output_type": "execute_result"
    }
   ],
   "source": [
    "dframe2.reindex(columns=new_columns)"
   ]
  },
  {
   "cell_type": "code",
   "execution_count": 18,
   "metadata": {
    "collapsed": false
   },
   "outputs": [
    {
     "data": {
      "text/html": [
       "<div>\n",
       "<table border=\"1\" class=\"dataframe\">\n",
       "  <thead>\n",
       "    <tr style=\"text-align: right;\">\n",
       "      <th></th>\n",
       "      <th>col1</th>\n",
       "      <th>col2</th>\n",
       "      <th>col3</th>\n",
       "      <th>col4</th>\n",
       "      <th>col5</th>\n",
       "    </tr>\n",
       "  </thead>\n",
       "  <tbody>\n",
       "    <tr>\n",
       "      <th>A</th>\n",
       "      <td>-0.344118</td>\n",
       "      <td>1.320871</td>\n",
       "      <td>-0.122603</td>\n",
       "      <td>-0.378900</td>\n",
       "      <td>2.823473</td>\n",
       "    </tr>\n",
       "    <tr>\n",
       "      <th>B</th>\n",
       "      <td>0.229416</td>\n",
       "      <td>0.702748</td>\n",
       "      <td>1.111527</td>\n",
       "      <td>0.044463</td>\n",
       "      <td>-0.430412</td>\n",
       "    </tr>\n",
       "    <tr>\n",
       "      <th>D</th>\n",
       "      <td>-0.248895</td>\n",
       "      <td>-0.580090</td>\n",
       "      <td>-2.552170</td>\n",
       "      <td>1.635726</td>\n",
       "      <td>1.770990</td>\n",
       "    </tr>\n",
       "    <tr>\n",
       "      <th>E</th>\n",
       "      <td>-0.079695</td>\n",
       "      <td>1.056657</td>\n",
       "      <td>2.354879</td>\n",
       "      <td>-1.112512</td>\n",
       "      <td>-0.073932</td>\n",
       "    </tr>\n",
       "    <tr>\n",
       "      <th>F</th>\n",
       "      <td>-1.203963</td>\n",
       "      <td>-0.974241</td>\n",
       "      <td>-0.247290</td>\n",
       "      <td>-0.260939</td>\n",
       "      <td>1.005962</td>\n",
       "    </tr>\n",
       "  </tbody>\n",
       "</table>\n",
       "</div>"
      ],
      "text/plain": [
       "       col1      col2      col3      col4      col5\n",
       "A -0.344118  1.320871 -0.122603 -0.378900  2.823473\n",
       "B  0.229416  0.702748  1.111527  0.044463 -0.430412\n",
       "D -0.248895 -0.580090 -2.552170  1.635726  1.770990\n",
       "E -0.079695  1.056657  2.354879 -1.112512 -0.073932\n",
       "F -1.203963 -0.974241 -0.247290 -0.260939  1.005962"
      ]
     },
     "execution_count": 18,
     "metadata": {},
     "output_type": "execute_result"
    }
   ],
   "source": [
    "dframe"
   ]
  },
  {
   "cell_type": "code",
   "execution_count": 19,
   "metadata": {
    "collapsed": false
   },
   "outputs": [
    {
     "data": {
      "text/html": [
       "<div>\n",
       "<table border=\"1\" class=\"dataframe\">\n",
       "  <thead>\n",
       "    <tr style=\"text-align: right;\">\n",
       "      <th></th>\n",
       "      <th>col1</th>\n",
       "      <th>col2</th>\n",
       "      <th>col3</th>\n",
       "      <th>col4</th>\n",
       "      <th>col5</th>\n",
       "      <th>col6</th>\n",
       "    </tr>\n",
       "  </thead>\n",
       "  <tbody>\n",
       "    <tr>\n",
       "      <th>A</th>\n",
       "      <td>-0.344118</td>\n",
       "      <td>1.320871</td>\n",
       "      <td>-0.122603</td>\n",
       "      <td>-0.378900</td>\n",
       "      <td>2.823473</td>\n",
       "      <td>NaN</td>\n",
       "    </tr>\n",
       "    <tr>\n",
       "      <th>B</th>\n",
       "      <td>0.229416</td>\n",
       "      <td>0.702748</td>\n",
       "      <td>1.111527</td>\n",
       "      <td>0.044463</td>\n",
       "      <td>-0.430412</td>\n",
       "      <td>NaN</td>\n",
       "    </tr>\n",
       "    <tr>\n",
       "      <th>C</th>\n",
       "      <td>NaN</td>\n",
       "      <td>NaN</td>\n",
       "      <td>NaN</td>\n",
       "      <td>NaN</td>\n",
       "      <td>NaN</td>\n",
       "      <td>NaN</td>\n",
       "    </tr>\n",
       "    <tr>\n",
       "      <th>D</th>\n",
       "      <td>-0.248895</td>\n",
       "      <td>-0.580090</td>\n",
       "      <td>-2.552170</td>\n",
       "      <td>1.635726</td>\n",
       "      <td>1.770990</td>\n",
       "      <td>NaN</td>\n",
       "    </tr>\n",
       "    <tr>\n",
       "      <th>E</th>\n",
       "      <td>-0.079695</td>\n",
       "      <td>1.056657</td>\n",
       "      <td>2.354879</td>\n",
       "      <td>-1.112512</td>\n",
       "      <td>-0.073932</td>\n",
       "      <td>NaN</td>\n",
       "    </tr>\n",
       "    <tr>\n",
       "      <th>F</th>\n",
       "      <td>-1.203963</td>\n",
       "      <td>-0.974241</td>\n",
       "      <td>-0.247290</td>\n",
       "      <td>-0.260939</td>\n",
       "      <td>1.005962</td>\n",
       "      <td>NaN</td>\n",
       "    </tr>\n",
       "  </tbody>\n",
       "</table>\n",
       "</div>"
      ],
      "text/plain": [
       "       col1      col2      col3      col4      col5  col6\n",
       "A -0.344118  1.320871 -0.122603 -0.378900  2.823473   NaN\n",
       "B  0.229416  0.702748  1.111527  0.044463 -0.430412   NaN\n",
       "C       NaN       NaN       NaN       NaN       NaN   NaN\n",
       "D -0.248895 -0.580090 -2.552170  1.635726  1.770990   NaN\n",
       "E -0.079695  1.056657  2.354879 -1.112512 -0.073932   NaN\n",
       "F -1.203963 -0.974241 -0.247290 -0.260939  1.005962   NaN"
      ]
     },
     "execution_count": 19,
     "metadata": {},
     "output_type": "execute_result"
    }
   ],
   "source": [
    "dframe.ix[['A','B','C','D','E','F'], new_columns]"
   ]
  },
  {
   "cell_type": "code",
   "execution_count": null,
   "metadata": {
    "collapsed": true
   },
   "outputs": [],
   "source": []
  }
 ],
 "metadata": {
  "kernelspec": {
   "display_name": "Python 3",
   "language": "python",
   "name": "python3"
  },
  "language_info": {
   "codemirror_mode": {
    "name": "ipython",
    "version": 3
   },
   "file_extension": ".py",
   "mimetype": "text/x-python",
   "name": "python",
   "nbconvert_exporter": "python",
   "pygments_lexer": "ipython3",
   "version": "3.5.0"
  }
 },
 "nbformat": 4,
 "nbformat_minor": 0
}
